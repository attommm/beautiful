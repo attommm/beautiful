{
 "cells": [
  {
   "cell_type": "code",
   "execution_count": 21,
   "metadata": {},
   "outputs": [
    {
     "name": "stdout",
     "output_type": "stream",
     "text": [
      "Defaulting to user installation because normal site-packages is not writeable\n",
      "Requirement already satisfied: beautifulsoup4 in c:\\users\\dell\\appdata\\roaming\\python\\python312\\site-packages (4.12.3)\n",
      "Requirement already satisfied: soupsieve>1.2 in c:\\users\\dell\\appdata\\roaming\\python\\python312\\site-packages (from beautifulsoup4) (2.6)\n",
      "Note: you may need to restart the kernel to use updated packages.\n"
     ]
    }
   ],
   "source": [
    "pip install beautifulsoup4"
   ]
  },
  {
   "cell_type": "code",
   "execution_count": 22,
   "metadata": {},
   "outputs": [],
   "source": [
    "from bs4 import BeautifulSoup\n",
    "import requests"
   ]
  },
  {
   "cell_type": "code",
   "execution_count": 23,
   "metadata": {},
   "outputs": [],
   "source": [
    "url = \"https://en.wikipedia.org/wiki/List_of_largest_companies_in_the_United_States_by_revenue\"\n",
    "page = requests.get(url)\n",
    "\n",
    "soup = BeautifulSoup(page.text, 'html')"
   ]
  },
  {
   "cell_type": "code",
   "execution_count": 24,
   "metadata": {},
   "outputs": [],
   "source": [
    "table = soup.find_all(\"table\")[2]"
   ]
  },
  {
   "cell_type": "code",
   "execution_count": 25,
   "metadata": {},
   "outputs": [
    {
     "data": {
      "text/plain": [
       "[<th>Rank\n",
       " </th>,\n",
       " <th>Name\n",
       " </th>,\n",
       " <th>Industry\n",
       " </th>,\n",
       " <th>Profits<br/>(USD millions)\n",
       " </th>]"
      ]
     },
     "execution_count": 25,
     "metadata": {},
     "output_type": "execute_result"
    }
   ],
   "source": [
    "table.find_all(\"th\")"
   ]
  },
  {
   "cell_type": "code",
   "execution_count": 26,
   "metadata": {},
   "outputs": [
    {
     "data": {
      "text/plain": [
       "['Rank', 'Name', 'Industry', 'Profits(USD millions)']"
      ]
     },
     "execution_count": 26,
     "metadata": {},
     "output_type": "execute_result"
    }
   ],
   "source": [
    "col = [tab.text.strip() for tab in table.find_all(\"th\")]\n",
    "col"
   ]
  },
  {
   "cell_type": "code",
   "execution_count": 27,
   "metadata": {},
   "outputs": [],
   "source": [
    "import pandas as pd"
   ]
  },
  {
   "cell_type": "code",
   "execution_count": 28,
   "metadata": {},
   "outputs": [],
   "source": [
    "df = pd.DataFrame(columns = col)"
   ]
  },
  {
   "cell_type": "code",
   "execution_count": 29,
   "metadata": {},
   "outputs": [
    {
     "name": "stdout",
     "output_type": "stream",
     "text": [
      "['1', 'Apple', 'Electronics', '96,995']\n",
      "['2', 'Berkshire Hathaway', 'Conglomerate', '96,223']\n",
      "['3', 'Alphabet', 'Technology', '73,795']\n",
      "['4', 'Microsoft', 'Technology', '72,361']\n",
      "['5', 'JPMorgan Chase', 'Financials', '49,552']\n",
      "['6', 'Meta Platforms', 'Technology', '39,098']\n",
      "['7', 'ExxonMobil', 'Petroleum industry', '36,010']\n",
      "['8', 'Johnson & Johnson', 'Pharmaceutical industry', '35,153']\n",
      "['9', 'Amazon', 'Retail/Technology', '30,425']\n",
      "['10', 'Nvidia', 'Technology', '29,760']\n"
     ]
    }
   ],
   "source": [
    "data = table.find_all(\"tr\")\n",
    "for dat in data[1:]:\n",
    "    row_data = (dat.find_all(\"td\"))\n",
    "    ind_row_data = [row_dat.text.strip() for row_dat in row_data]\n",
    "    print(ind_row_data)\n",
    "    lent = len(df)\n",
    "    df.loc[lent] = ind_row_data"
   ]
  },
  {
   "cell_type": "code",
   "execution_count": 30,
   "metadata": {},
   "outputs": [
    {
     "name": "stdout",
     "output_type": "stream",
     "text": [
      "<class 'pandas.core.frame.DataFrame'>\n",
      "Index: 10 entries, 0 to 9\n",
      "Data columns (total 4 columns):\n",
      " #   Column                 Non-Null Count  Dtype \n",
      "---  ------                 --------------  ----- \n",
      " 0   Rank                   10 non-null     object\n",
      " 1   Name                   10 non-null     object\n",
      " 2   Industry               10 non-null     object\n",
      " 3   Profits(USD millions)  10 non-null     object\n",
      "dtypes: object(4)\n",
      "memory usage: 400.0+ bytes\n"
     ]
    }
   ],
   "source": [
    "df.info()"
   ]
  },
  {
   "cell_type": "code",
   "execution_count": 31,
   "metadata": {},
   "outputs": [],
   "source": [
    "# df[\"Rank\"] = df[\"Rank\"].astype(int)\n",
    "df[\"Profits(USD millions)\"] = df[\"Profits(USD millions)\"].str.replace(\",\",\"\")\n",
    "df[\"Profits(USD millions)\"] = df[\"Profits(USD millions)\"].astype(int)"
   ]
  },
  {
   "cell_type": "code",
   "execution_count": 32,
   "metadata": {},
   "outputs": [
    {
     "data": {
      "text/html": [
       "<div>\n",
       "<style scoped>\n",
       "    .dataframe tbody tr th:only-of-type {\n",
       "        vertical-align: middle;\n",
       "    }\n",
       "\n",
       "    .dataframe tbody tr th {\n",
       "        vertical-align: top;\n",
       "    }\n",
       "\n",
       "    .dataframe thead th {\n",
       "        text-align: right;\n",
       "    }\n",
       "</style>\n",
       "<table border=\"1\" class=\"dataframe\">\n",
       "  <thead>\n",
       "    <tr style=\"text-align: right;\">\n",
       "      <th></th>\n",
       "      <th>Rank</th>\n",
       "      <th>Name</th>\n",
       "      <th>Industry</th>\n",
       "      <th>Profits(USD millions)</th>\n",
       "    </tr>\n",
       "  </thead>\n",
       "  <tbody>\n",
       "    <tr>\n",
       "      <th>0</th>\n",
       "      <td>1</td>\n",
       "      <td>Apple</td>\n",
       "      <td>Electronics</td>\n",
       "      <td>96995</td>\n",
       "    </tr>\n",
       "    <tr>\n",
       "      <th>1</th>\n",
       "      <td>2</td>\n",
       "      <td>Berkshire Hathaway</td>\n",
       "      <td>Conglomerate</td>\n",
       "      <td>96223</td>\n",
       "    </tr>\n",
       "    <tr>\n",
       "      <th>2</th>\n",
       "      <td>3</td>\n",
       "      <td>Alphabet</td>\n",
       "      <td>Technology</td>\n",
       "      <td>73795</td>\n",
       "    </tr>\n",
       "    <tr>\n",
       "      <th>3</th>\n",
       "      <td>4</td>\n",
       "      <td>Microsoft</td>\n",
       "      <td>Technology</td>\n",
       "      <td>72361</td>\n",
       "    </tr>\n",
       "    <tr>\n",
       "      <th>4</th>\n",
       "      <td>5</td>\n",
       "      <td>JPMorgan Chase</td>\n",
       "      <td>Financials</td>\n",
       "      <td>49552</td>\n",
       "    </tr>\n",
       "    <tr>\n",
       "      <th>5</th>\n",
       "      <td>6</td>\n",
       "      <td>Meta Platforms</td>\n",
       "      <td>Technology</td>\n",
       "      <td>39098</td>\n",
       "    </tr>\n",
       "    <tr>\n",
       "      <th>6</th>\n",
       "      <td>7</td>\n",
       "      <td>ExxonMobil</td>\n",
       "      <td>Petroleum industry</td>\n",
       "      <td>36010</td>\n",
       "    </tr>\n",
       "    <tr>\n",
       "      <th>7</th>\n",
       "      <td>8</td>\n",
       "      <td>Johnson &amp; Johnson</td>\n",
       "      <td>Pharmaceutical industry</td>\n",
       "      <td>35153</td>\n",
       "    </tr>\n",
       "    <tr>\n",
       "      <th>8</th>\n",
       "      <td>9</td>\n",
       "      <td>Amazon</td>\n",
       "      <td>Retail/Technology</td>\n",
       "      <td>30425</td>\n",
       "    </tr>\n",
       "    <tr>\n",
       "      <th>9</th>\n",
       "      <td>10</td>\n",
       "      <td>Nvidia</td>\n",
       "      <td>Technology</td>\n",
       "      <td>29760</td>\n",
       "    </tr>\n",
       "  </tbody>\n",
       "</table>\n",
       "</div>"
      ],
      "text/plain": [
       "  Rank                Name                 Industry  Profits(USD millions)\n",
       "0    1               Apple              Electronics                  96995\n",
       "1    2  Berkshire Hathaway             Conglomerate                  96223\n",
       "2    3            Alphabet               Technology                  73795\n",
       "3    4           Microsoft               Technology                  72361\n",
       "4    5      JPMorgan Chase               Financials                  49552\n",
       "5    6      Meta Platforms               Technology                  39098\n",
       "6    7          ExxonMobil       Petroleum industry                  36010\n",
       "7    8   Johnson & Johnson  Pharmaceutical industry                  35153\n",
       "8    9              Amazon        Retail/Technology                  30425\n",
       "9   10              Nvidia               Technology                  29760"
      ]
     },
     "execution_count": 32,
     "metadata": {},
     "output_type": "execute_result"
    }
   ],
   "source": [
    "df"
   ]
  },
  {
   "cell_type": "code",
   "execution_count": 33,
   "metadata": {},
   "outputs": [
    {
     "name": "stdout",
     "output_type": "stream",
     "text": [
      "Defaulting to user installation because normal site-packages is not writeable\n",
      "Collecting psycopg2\n",
      "  Downloading psycopg2-2.9.9-cp312-cp312-win_amd64.whl.metadata (4.5 kB)\n",
      "Downloading psycopg2-2.9.9-cp312-cp312-win_amd64.whl (1.2 MB)\n",
      "   ---------------------------------------- 0.0/1.2 MB ? eta -:--:--\n",
      "   ---------------------------------------- 0.0/1.2 MB ? eta -:--:--\n",
      "   ---------------------------------------- 0.0/1.2 MB ? eta -:--:--\n",
      "   --------- ------------------------------ 0.3/1.2 MB ? eta -:--:--\n",
      "   ------------------ --------------------- 0.5/1.2 MB 929.6 kB/s eta 0:00:01\n",
      "   ------------------------------------ --- 1.0/1.2 MB 1.5 MB/s eta 0:00:01\n",
      "   ---------------------------------------- 1.2/1.2 MB 1.5 MB/s eta 0:00:00\n",
      "Installing collected packages: psycopg2\n",
      "Successfully installed psycopg2-2.9.9\n",
      "Note: you may need to restart the kernel to use updated packages.\n"
     ]
    }
   ],
   "source": [
    "pip install psycopg2"
   ]
  },
  {
   "cell_type": "code",
   "execution_count": 34,
   "metadata": {},
   "outputs": [],
   "source": [
    "import psycopg2"
   ]
  },
  {
   "cell_type": "code",
   "execution_count": 52,
   "metadata": {},
   "outputs": [],
   "source": [
    "host = \"localhost\"\n",
    "port = \"5432\"\n",
    "user = \"postgres\"\n",
    "password = \"YbabyLO@02#\"\n",
    "\n",
    "conn = psycopg2.connect(\n",
    "    user = user,\n",
    "    password = password,\n",
    "    host = host,\n",
    "    port = port\n",
    ")\n",
    "\n",
    "conn.autocommit = True\n",
    "cur = conn.cursor()\n"
   ]
  },
  {
   "cell_type": "code",
   "execution_count": 53,
   "metadata": {},
   "outputs": [],
   "source": [
    "create_db = '''\"create database companies\"'''\n",
    "cur.execute(create_db)"
   ]
  },
  {
   "cell_type": "code",
   "execution_count": 54,
   "metadata": {},
   "outputs": [],
   "source": [
    "cur.close()\n",
    "conn.close()"
   ]
  },
  {
   "cell_type": "code",
   "execution_count": 57,
   "metadata": {},
   "outputs": [],
   "source": [
    "host = \"localhost\"\n",
    "port = \"5432\"\n",
    "user = \"postgres\"\n",
    "password = \"YbabyLO@02#\"\n",
    "db = \"companies\"\n",
    "\n",
    "conn = psycopg2.connect(\n",
    "    dbname = db,\n",
    "    user = user,\n",
    "    password = password,\n",
    "    host = host,\n",
    "    port = port\n",
    ")\n",
    "\n",
    "conn.autocommit = True\n",
    "cur = conn.cursor()\n"
   ]
  },
  {
   "cell_type": "code",
   "execution_count": 62,
   "metadata": {},
   "outputs": [],
   "source": [
    "create_table = '''create table rich_by_price(\n",
    "    \"Rank\" int primary key,\n",
    "    \"Name\" varchar(50),\n",
    "    \"Industry\" varchar(50),\n",
    "    \"Profits\" int\n",
    "    );\n",
    "'''\n",
    "\n",
    "cur.execute(create_table)\n",
    "\n",
    "cur.close()"
   ]
  },
  {
   "cell_type": "code",
   "execution_count": 71,
   "metadata": {},
   "outputs": [],
   "source": [
    "conn.commit()"
   ]
  },
  {
   "cell_type": "code",
   "execution_count": 68,
   "metadata": {},
   "outputs": [],
   "source": [
    "cur = conn.cursor()\n",
    "insert_into = '''insert into rich_by_price( \"Rank\", \"Name\", \"Industry\", \"Profits\")\n",
    "Values (%s, %s, %s, %s)\n",
    "'''\n",
    "\n",
    "for index,row in df.iterrows():\n",
    "    cur.execute(insert_into,list(row))\n",
    "\n",
    "\n",
    "cur.close()"
   ]
  },
  {
   "cell_type": "code",
   "execution_count": 73,
   "metadata": {},
   "outputs": [
    {
     "name": "stdout",
     "output_type": "stream",
     "text": [
      "(1, 'Apple', 'Electronics', 96995)\n",
      "(2, 'Berkshire Hathaway', 'Conglomerate', 96223)\n",
      "(3, 'Alphabet', 'Technology', 73795)\n",
      "(4, 'Microsoft', 'Technology', 72361)\n",
      "(5, 'JPMorgan Chase', 'Financials', 49552)\n",
      "(6, 'Meta Platforms', 'Technology', 39098)\n",
      "(7, 'ExxonMobil', 'Petroleum industry', 36010)\n",
      "(8, 'Johnson & Johnson', 'Pharmaceutical industry', 35153)\n",
      "(9, 'Amazon', 'Retail/Technology', 30425)\n",
      "(10, 'Nvidia', 'Technology', 29760)\n"
     ]
    }
   ],
   "source": [
    "cur = conn.cursor()\n",
    "select_from = ''' select * from rich_by_price'''\n",
    "\n",
    "cur.execute(select_from)\n",
    "\n",
    "rowss = cur.fetchall()\n",
    "\n",
    "for row in rowss:\n",
    "    print(row) "
   ]
  },
  {
   "cell_type": "code",
   "execution_count": null,
   "metadata": {},
   "outputs": [],
   "source": []
  }
 ],
 "metadata": {
  "kernelspec": {
   "display_name": "Python 3",
   "language": "python",
   "name": "python3"
  },
  "language_info": {
   "codemirror_mode": {
    "name": "ipython",
    "version": 3
   },
   "file_extension": ".py",
   "mimetype": "text/x-python",
   "name": "python",
   "nbconvert_exporter": "python",
   "pygments_lexer": "ipython3",
   "version": "3.12.7"
  }
 },
 "nbformat": 4,
 "nbformat_minor": 2
}
